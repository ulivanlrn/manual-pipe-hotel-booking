{
 "cells": [
  {
   "cell_type": "code",
   "execution_count": null,
   "id": "4782ce80-0ee3-44b7-96df-086629cff0ee",
   "metadata": {},
   "outputs": [],
   "source": []
  }
 ],
 "metadata": {
  "kernelspec": {
   "display_name": "",
   "name": ""
  },
  "language_info": {
   "name": ""
  }
 },
 "nbformat": 4,
 "nbformat_minor": 5
}
